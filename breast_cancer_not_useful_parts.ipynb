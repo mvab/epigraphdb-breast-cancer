{
 "cells": [
  {
   "cell_type": "code",
   "execution_count": 1,
   "metadata": {},
   "outputs": [],
   "source": [
    "import pandas as pd\n",
    "import json\n",
    "from environs import Env\n",
    "from graph_functions import query_to_df,start_graph_session\n",
    "\n",
    "env = Env()\n",
    "session = start_graph_session(env) "
   ]
  },
  {
   "cell_type": "markdown",
   "metadata": {},
   "source": [
    "## Correlations"
   ]
  },
  {
   "cell_type": "code",
   "execution_count": 4,
   "metadata": {},
   "outputs": [
    {
     "name": "stdout",
     "output_type": "stream",
     "text": [
      "\n",
      "MATCH (trait:Gwas)-[gen_cor:GEN_COR]-(assoc_trait:Gwas)\n",
      "where toLower(trait.trait) contains \"breast\"\n",
      "return distinct trait.trait, trait.id\n",
      "\n"
     ]
    },
    {
     "data": {
      "text/html": [
       "<div>\n",
       "<style scoped>\n",
       "    .dataframe tbody tr th:only-of-type {\n",
       "        vertical-align: middle;\n",
       "    }\n",
       "\n",
       "    .dataframe tbody tr th {\n",
       "        vertical-align: top;\n",
       "    }\n",
       "\n",
       "    .dataframe thead th {\n",
       "        text-align: right;\n",
       "    }\n",
       "</style>\n",
       "<table border=\"1\" class=\"dataframe\">\n",
       "  <thead>\n",
       "    <tr style=\"text-align: right;\">\n",
       "      <th></th>\n",
       "      <th>trait.trait</th>\n",
       "      <th>trait.id</th>\n",
       "    </tr>\n",
       "  </thead>\n",
       "  <tbody>\n",
       "    <tr>\n",
       "      <th>0</th>\n",
       "      <td>Malignant neoplasm of breast</td>\n",
       "      <td>ukb-d-C3_BREAST_3</td>\n",
       "    </tr>\n",
       "    <tr>\n",
       "      <th>1</th>\n",
       "      <td>Diagnoses - main ICD10: C50 Malignant neoplasm...</td>\n",
       "      <td>ukb-a-519</td>\n",
       "    </tr>\n",
       "    <tr>\n",
       "      <th>2</th>\n",
       "      <td>Breastfed as a baby</td>\n",
       "      <td>ukb-b-13423</td>\n",
       "    </tr>\n",
       "    <tr>\n",
       "      <th>3</th>\n",
       "      <td>Breastfed as a baby</td>\n",
       "      <td>ukb-a-33</td>\n",
       "    </tr>\n",
       "  </tbody>\n",
       "</table>\n",
       "</div>"
      ],
      "text/plain": [
       "                                         trait.trait           trait.id\n",
       "0                       Malignant neoplasm of breast  ukb-d-C3_BREAST_3\n",
       "1  Diagnoses - main ICD10: C50 Malignant neoplasm...          ukb-a-519\n",
       "2                                Breastfed as a baby        ukb-b-13423\n",
       "3                                Breastfed as a baby           ukb-a-33"
      ]
     },
     "execution_count": 4,
     "metadata": {},
     "output_type": "execute_result"
    }
   ],
   "source": [
    "# there are no breast cancer traits in gen corrs \n",
    "query = \"\"\"\n",
    "MATCH (trait:Gwas)-[gen_cor:GEN_COR]-(assoc_trait:Gwas)\n",
    "where toLower(trait.trait) contains \"breast\"\n",
    "return distinct trait.trait, trait.id\n",
    "\"\"\"\n",
    "df = query_to_df(session, query)\n",
    "df"
   ]
  },
  {
   "cell_type": "code",
   "execution_count": 5,
   "metadata": {},
   "outputs": [
    {
     "name": "stdout",
     "output_type": "stream",
     "text": [
      "\n",
      "MATCH (trait:Gwas)-[obs_cor:OBS_COR]-(assoc_trait:Gwas)\n",
      "where toLower(trait.trait)contains \"breast \"\n",
      "return distinct trait.trait, trait.id\n",
      "\n"
     ]
    },
    {
     "data": {
      "text/html": [
       "<div>\n",
       "<style scoped>\n",
       "    .dataframe tbody tr th:only-of-type {\n",
       "        vertical-align: middle;\n",
       "    }\n",
       "\n",
       "    .dataframe tbody tr th {\n",
       "        vertical-align: top;\n",
       "    }\n",
       "\n",
       "    .dataframe thead th {\n",
       "        text-align: right;\n",
       "    }\n",
       "</style>\n",
       "<table border=\"1\" class=\"dataframe\">\n",
       "  <thead>\n",
       "    <tr style=\"text-align: right;\">\n",
       "      <th></th>\n",
       "      <th>trait.trait</th>\n",
       "      <th>trait.id</th>\n",
       "    </tr>\n",
       "  </thead>\n",
       "  <tbody>\n",
       "    <tr>\n",
       "      <th>0</th>\n",
       "      <td>Illnesses of mother: Breast cancer</td>\n",
       "      <td>ukb-b-13584</td>\n",
       "    </tr>\n",
       "  </tbody>\n",
       "</table>\n",
       "</div>"
      ],
      "text/plain": [
       "                          trait.trait     trait.id\n",
       "0  Illnesses of mother: Breast cancer  ukb-b-13584"
      ]
     },
     "execution_count": 5,
     "metadata": {},
     "output_type": "execute_result"
    }
   ],
   "source": [
    "# there are no breast cancer traits in obs corrs \n",
    "query = \"\"\"\n",
    "MATCH (trait:Gwas)-[obs_cor:OBS_COR]-(assoc_trait:Gwas)\n",
    "where toLower(trait.trait)contains \"breast \"\n",
    "return distinct trait.trait, trait.id\n",
    "\"\"\"\n",
    "df = query_to_df(session, query)\n",
    "df"
   ]
  },
  {
   "cell_type": "code",
   "execution_count": 6,
   "metadata": {},
   "outputs": [
    {
     "name": "stdout",
     "output_type": "stream",
     "text": [
      "\n",
      "MATCH (trait:Gwas)-[prs:PRS]-(assoc_trait:Gwas)\n",
      "where toLower(trait.trait)contains \"breast \"\n",
      "return distinct trait.trait, trait.id\n",
      "\n"
     ]
    },
    {
     "data": {
      "text/html": [
       "<div>\n",
       "<style scoped>\n",
       "    .dataframe tbody tr th:only-of-type {\n",
       "        vertical-align: middle;\n",
       "    }\n",
       "\n",
       "    .dataframe tbody tr th {\n",
       "        vertical-align: top;\n",
       "    }\n",
       "\n",
       "    .dataframe thead th {\n",
       "        text-align: right;\n",
       "    }\n",
       "</style>\n",
       "<table border=\"1\" class=\"dataframe\">\n",
       "  <thead>\n",
       "    <tr style=\"text-align: right;\">\n",
       "      <th></th>\n",
       "      <th>trait.trait</th>\n",
       "      <th>trait.id</th>\n",
       "    </tr>\n",
       "  </thead>\n",
       "  <tbody>\n",
       "    <tr>\n",
       "      <th>0</th>\n",
       "      <td>Illnesses of mother: Breast cancer</td>\n",
       "      <td>ukb-a-213</td>\n",
       "    </tr>\n",
       "    <tr>\n",
       "      <th>1</th>\n",
       "      <td>Illnesses of mother: Breast cancer</td>\n",
       "      <td>ukb-b-13584</td>\n",
       "    </tr>\n",
       "    <tr>\n",
       "      <th>2</th>\n",
       "      <td>Cancer code  self-reported: breast cancer</td>\n",
       "      <td>ukb-a-55</td>\n",
       "    </tr>\n",
       "  </tbody>\n",
       "</table>\n",
       "</div>"
      ],
      "text/plain": [
       "                                 trait.trait     trait.id\n",
       "0         Illnesses of mother: Breast cancer    ukb-a-213\n",
       "1         Illnesses of mother: Breast cancer  ukb-b-13584\n",
       "2  Cancer code  self-reported: breast cancer     ukb-a-55"
      ]
     },
     "execution_count": 6,
     "metadata": {},
     "output_type": "execute_result"
    }
   ],
   "source": [
    "# there are no breast cancer traits in PRS\n",
    "query = \"\"\"\n",
    "MATCH (trait:Gwas)-[prs:PRS]-(assoc_trait:Gwas)\n",
    "where toLower(trait.trait)contains \"breast \"\n",
    "return distinct trait.trait, trait.id\n",
    "\"\"\"\n",
    "df = query_to_df(session, query)\n",
    "df"
   ]
  }
 ],
 "metadata": {
  "kernelspec": {
   "display_name": "Python 3",
   "language": "python",
   "name": "python3"
  },
  "language_info": {
   "codemirror_mode": {
    "name": "ipython",
    "version": 3
   },
   "file_extension": ".py",
   "mimetype": "text/x-python",
   "name": "python",
   "nbconvert_exporter": "python",
   "pygments_lexer": "ipython3",
   "version": "3.7.9"
  }
 },
 "nbformat": 4,
 "nbformat_minor": 4
}
