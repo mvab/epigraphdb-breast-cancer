{
 "cells": [
  {
   "cell_type": "code",
   "execution_count": 1,
   "metadata": {},
   "outputs": [],
   "source": [
    "import pandas as pd\n",
    "import json\n",
    "from environs import Env\n",
    "from neo4j import GraphDatabase\n"
   ]
  },
  {
   "cell_type": "code",
   "execution_count": 2,
   "metadata": {},
   "outputs": [
    {
     "name": "stdout",
     "output_type": "stream",
     "text": [
      "37687\n"
     ]
    }
   ],
   "source": [
    "env = Env()\n",
    "env.read_env()\n",
    "\n",
    "EPIGRAPHDB_SERVER = env.str(\"EPIGRAPHDB_SERVER\")\n",
    "EPIGRAPHDB_USER = \"neo4j\"\n",
    "EPIGRAPHDB_PORT = env.str(\"EPIGRAPHDB_PORT\")\n",
    "EPIGRAPHDB_PASSWORD = env.str(\"EPIGRAPHDB_PASSWORD\")\n",
    "print(EPIGRAPHDB_PORT)\n",
    "\n",
    "epigraphdb_driver = GraphDatabase.driver(\n",
    "    \"bolt://{server_name}:{port}\".format(\n",
    "        server_name=EPIGRAPHDB_SERVER, port=EPIGRAPHDB_PORT),\n",
    "    auth=(EPIGRAPHDB_USER, EPIGRAPHDB_PASSWORD))\n",
    "\n",
    "session = epigraphdb_driver.session()"
   ]
  },
  {
   "cell_type": "code",
   "execution_count": 3,
   "metadata": {},
   "outputs": [],
   "source": [
    "def query_to_df(query):\n",
    "    print(query)\n",
    "    data=session.run(query).data()\n",
    "    df = pd.json_normalize(data)\n",
    "    return(df)"
   ]
  },
  {
   "cell_type": "code",
   "execution_count": null,
   "metadata": {},
   "outputs": [],
   "source": []
  },
  {
   "cell_type": "markdown",
   "metadata": {},
   "source": [
    "# Looking at literature connections"
   ]
  },
  {
   "cell_type": "code",
   "execution_count": 45,
   "metadata": {},
   "outputs": [
    {
     "name": "stdout",
     "output_type": "stream",
     "text": [
      "\n",
      "MATCH (gwas:Gwas)-[gs:GWAS_TO_LITERATURE_TRIPLE]->(triple:LiteratureTriple) -[sl:SEMMEDDB_TO_LIT]->(lit:Literature) \n",
      "return distinct triple.predicate limit 43\n",
      "\n"
     ]
    },
    {
     "ename": "KeyboardInterrupt",
     "evalue": "",
     "output_type": "error",
     "traceback": [
      "\u001b[0;31m---------------------------------------------------------------------------\u001b[0m",
      "\u001b[0;31mKeyboardInterrupt\u001b[0m                         Traceback (most recent call last)",
      "\u001b[0;32m<ipython-input-45-56c3cadb00fa>\u001b[0m in \u001b[0;36m<module>\u001b[0;34m\u001b[0m\n\u001b[1;32m      4\u001b[0m \u001b[0;32mreturn\u001b[0m \u001b[0mdistinct\u001b[0m \u001b[0mtriple\u001b[0m\u001b[0;34m.\u001b[0m\u001b[0mpredicate\u001b[0m \u001b[0mlimit\u001b[0m \u001b[0;36m43\u001b[0m\u001b[0;34m\u001b[0m\u001b[0;34m\u001b[0m\u001b[0m\n\u001b[1;32m      5\u001b[0m \"\"\"\n\u001b[0;32m----> 6\u001b[0;31m \u001b[0mdf\u001b[0m \u001b[0;34m=\u001b[0m \u001b[0mquery_to_df\u001b[0m\u001b[0;34m(\u001b[0m\u001b[0mquery\u001b[0m\u001b[0;34m)\u001b[0m\u001b[0;34m\u001b[0m\u001b[0;34m\u001b[0m\u001b[0m\n\u001b[0m\u001b[1;32m      7\u001b[0m \u001b[0mdf\u001b[0m\u001b[0;34m\u001b[0m\u001b[0;34m\u001b[0m\u001b[0m\n",
      "\u001b[0;32m<ipython-input-41-382dfcf837f1>\u001b[0m in \u001b[0;36mquery_to_df\u001b[0;34m(query)\u001b[0m\n\u001b[1;32m      1\u001b[0m \u001b[0;32mdef\u001b[0m \u001b[0mquery_to_df\u001b[0m\u001b[0;34m(\u001b[0m\u001b[0mquery\u001b[0m\u001b[0;34m)\u001b[0m\u001b[0;34m:\u001b[0m\u001b[0;34m\u001b[0m\u001b[0;34m\u001b[0m\u001b[0m\n\u001b[1;32m      2\u001b[0m     \u001b[0mprint\u001b[0m\u001b[0;34m(\u001b[0m\u001b[0mquery\u001b[0m\u001b[0;34m)\u001b[0m\u001b[0;34m\u001b[0m\u001b[0;34m\u001b[0m\u001b[0m\n\u001b[0;32m----> 3\u001b[0;31m     \u001b[0mdata\u001b[0m\u001b[0;34m=\u001b[0m\u001b[0msession\u001b[0m\u001b[0;34m.\u001b[0m\u001b[0mrun\u001b[0m\u001b[0;34m(\u001b[0m\u001b[0mquery\u001b[0m\u001b[0;34m)\u001b[0m\u001b[0;34m.\u001b[0m\u001b[0mdata\u001b[0m\u001b[0;34m(\u001b[0m\u001b[0;34m)\u001b[0m\u001b[0;34m\u001b[0m\u001b[0;34m\u001b[0m\u001b[0m\n\u001b[0m\u001b[1;32m      4\u001b[0m     \u001b[0mdf\u001b[0m \u001b[0;34m=\u001b[0m \u001b[0mpd\u001b[0m\u001b[0;34m.\u001b[0m\u001b[0mjson_normalize\u001b[0m\u001b[0;34m(\u001b[0m\u001b[0mdata\u001b[0m\u001b[0;34m)\u001b[0m\u001b[0;34m\u001b[0m\u001b[0;34m\u001b[0m\u001b[0m\n\u001b[1;32m      5\u001b[0m     \u001b[0;32mreturn\u001b[0m\u001b[0;34m(\u001b[0m\u001b[0mdf\u001b[0m\u001b[0;34m)\u001b[0m\u001b[0;34m\u001b[0m\u001b[0;34m\u001b[0m\u001b[0m\n",
      "\u001b[0;32m~/opt/anaconda3/envs/neo4j_build/lib/python3.7/site-packages/neo4j/work/simple.py\u001b[0m in \u001b[0;36mrun\u001b[0;34m(self, query, parameters, **kwparameters)\u001b[0m\n\u001b[1;32m    215\u001b[0m \u001b[0;34m\u001b[0m\u001b[0m\n\u001b[1;32m    216\u001b[0m         \u001b[0mself\u001b[0m\u001b[0;34m.\u001b[0m\u001b[0m_autoResult\u001b[0m \u001b[0;34m=\u001b[0m \u001b[0mResult\u001b[0m\u001b[0;34m(\u001b[0m\u001b[0mcx\u001b[0m\u001b[0;34m,\u001b[0m \u001b[0mhydrant\u001b[0m\u001b[0;34m,\u001b[0m \u001b[0mself\u001b[0m\u001b[0;34m.\u001b[0m\u001b[0m_config\u001b[0m\u001b[0;34m.\u001b[0m\u001b[0mfetch_size\u001b[0m\u001b[0;34m,\u001b[0m \u001b[0mself\u001b[0m\u001b[0;34m.\u001b[0m\u001b[0m_result_closed\u001b[0m\u001b[0;34m)\u001b[0m\u001b[0;34m\u001b[0m\u001b[0;34m\u001b[0m\u001b[0m\n\u001b[0;32m--> 217\u001b[0;31m         \u001b[0mself\u001b[0m\u001b[0;34m.\u001b[0m\u001b[0m_autoResult\u001b[0m\u001b[0;34m.\u001b[0m\u001b[0m_run\u001b[0m\u001b[0;34m(\u001b[0m\u001b[0mquery\u001b[0m\u001b[0;34m,\u001b[0m \u001b[0mparameters\u001b[0m\u001b[0;34m,\u001b[0m \u001b[0mself\u001b[0m\u001b[0;34m.\u001b[0m\u001b[0m_config\u001b[0m\u001b[0;34m.\u001b[0m\u001b[0mdatabase\u001b[0m\u001b[0;34m,\u001b[0m \u001b[0mself\u001b[0m\u001b[0;34m.\u001b[0m\u001b[0m_config\u001b[0m\u001b[0;34m.\u001b[0m\u001b[0mdefault_access_mode\u001b[0m\u001b[0;34m,\u001b[0m \u001b[0mself\u001b[0m\u001b[0;34m.\u001b[0m\u001b[0m_bookmarks\u001b[0m\u001b[0;34m,\u001b[0m \u001b[0;34m**\u001b[0m\u001b[0mkwparameters\u001b[0m\u001b[0;34m)\u001b[0m\u001b[0;34m\u001b[0m\u001b[0;34m\u001b[0m\u001b[0m\n\u001b[0m\u001b[1;32m    218\u001b[0m \u001b[0;34m\u001b[0m\u001b[0m\n\u001b[1;32m    219\u001b[0m         \u001b[0;32mreturn\u001b[0m \u001b[0mself\u001b[0m\u001b[0;34m.\u001b[0m\u001b[0m_autoResult\u001b[0m\u001b[0;34m\u001b[0m\u001b[0;34m\u001b[0m\u001b[0m\n",
      "\u001b[0;32m~/opt/anaconda3/envs/neo4j_build/lib/python3.7/site-packages/neo4j/work/result.py\u001b[0m in \u001b[0;36m_run\u001b[0;34m(self, query, parameters, db, access_mode, bookmarks, **kwparameters)\u001b[0m\n\u001b[1;32m     99\u001b[0m         \u001b[0mself\u001b[0m\u001b[0;34m.\u001b[0m\u001b[0m_pull\u001b[0m\u001b[0;34m(\u001b[0m\u001b[0;34m)\u001b[0m\u001b[0;34m\u001b[0m\u001b[0;34m\u001b[0m\u001b[0m\n\u001b[1;32m    100\u001b[0m         \u001b[0mself\u001b[0m\u001b[0;34m.\u001b[0m\u001b[0m_connection\u001b[0m\u001b[0;34m.\u001b[0m\u001b[0msend_all\u001b[0m\u001b[0;34m(\u001b[0m\u001b[0;34m)\u001b[0m\u001b[0;34m\u001b[0m\u001b[0;34m\u001b[0m\u001b[0m\n\u001b[0;32m--> 101\u001b[0;31m         \u001b[0mself\u001b[0m\u001b[0;34m.\u001b[0m\u001b[0m_attach\u001b[0m\u001b[0;34m(\u001b[0m\u001b[0;34m)\u001b[0m\u001b[0;34m\u001b[0m\u001b[0;34m\u001b[0m\u001b[0m\n\u001b[0m\u001b[1;32m    102\u001b[0m \u001b[0;34m\u001b[0m\u001b[0m\n\u001b[1;32m    103\u001b[0m     \u001b[0;32mdef\u001b[0m \u001b[0m_pull\u001b[0m\u001b[0;34m(\u001b[0m\u001b[0mself\u001b[0m\u001b[0;34m)\u001b[0m\u001b[0;34m:\u001b[0m\u001b[0;34m\u001b[0m\u001b[0;34m\u001b[0m\u001b[0m\n",
      "\u001b[0;32m~/opt/anaconda3/envs/neo4j_build/lib/python3.7/site-packages/neo4j/work/result.py\u001b[0m in \u001b[0;36m_attach\u001b[0;34m(self)\u001b[0m\n\u001b[1;32m    200\u001b[0m         \u001b[0;32mif\u001b[0m \u001b[0mself\u001b[0m\u001b[0;34m.\u001b[0m\u001b[0m_closed\u001b[0m \u001b[0;32mis\u001b[0m \u001b[0;32mFalse\u001b[0m\u001b[0;34m:\u001b[0m\u001b[0;34m\u001b[0m\u001b[0;34m\u001b[0m\u001b[0m\n\u001b[1;32m    201\u001b[0m             \u001b[0;32mwhile\u001b[0m \u001b[0mself\u001b[0m\u001b[0;34m.\u001b[0m\u001b[0m_attached\u001b[0m \u001b[0;32mis\u001b[0m \u001b[0;32mFalse\u001b[0m\u001b[0;34m:\u001b[0m\u001b[0;34m\u001b[0m\u001b[0;34m\u001b[0m\u001b[0m\n\u001b[0;32m--> 202\u001b[0;31m                 \u001b[0mself\u001b[0m\u001b[0;34m.\u001b[0m\u001b[0m_connection\u001b[0m\u001b[0;34m.\u001b[0m\u001b[0mfetch_message\u001b[0m\u001b[0;34m(\u001b[0m\u001b[0;34m)\u001b[0m\u001b[0;34m\u001b[0m\u001b[0;34m\u001b[0m\u001b[0m\n\u001b[0m\u001b[1;32m    203\u001b[0m \u001b[0;34m\u001b[0m\u001b[0m\n\u001b[1;32m    204\u001b[0m     \u001b[0;32mdef\u001b[0m \u001b[0m_buffer_all\u001b[0m\u001b[0;34m(\u001b[0m\u001b[0mself\u001b[0m\u001b[0;34m)\u001b[0m\u001b[0;34m:\u001b[0m\u001b[0;34m\u001b[0m\u001b[0;34m\u001b[0m\u001b[0m\n",
      "\u001b[0;32m~/opt/anaconda3/envs/neo4j_build/lib/python3.7/site-packages/neo4j/io/_bolt4x1.py\u001b[0m in \u001b[0;36mfetch_message\u001b[0;34m(self)\u001b[0m\n\u001b[1;32m    322\u001b[0m         \u001b[0;31m# Receive exactly one message\u001b[0m\u001b[0;34m\u001b[0m\u001b[0;34m\u001b[0m\u001b[0;34m\u001b[0m\u001b[0m\n\u001b[1;32m    323\u001b[0m         \u001b[0;32mtry\u001b[0m\u001b[0;34m:\u001b[0m\u001b[0;34m\u001b[0m\u001b[0;34m\u001b[0m\u001b[0m\n\u001b[0;32m--> 324\u001b[0;31m             \u001b[0mdetails\u001b[0m\u001b[0;34m,\u001b[0m \u001b[0msummary_signature\u001b[0m\u001b[0;34m,\u001b[0m \u001b[0msummary_metadata\u001b[0m \u001b[0;34m=\u001b[0m \u001b[0mnext\u001b[0m\u001b[0;34m(\u001b[0m\u001b[0mself\u001b[0m\u001b[0;34m.\u001b[0m\u001b[0minbox\u001b[0m\u001b[0;34m)\u001b[0m\u001b[0;34m\u001b[0m\u001b[0;34m\u001b[0m\u001b[0m\n\u001b[0m\u001b[1;32m    325\u001b[0m         \u001b[0;32mexcept\u001b[0m \u001b[0;34m(\u001b[0m\u001b[0mIOError\u001b[0m\u001b[0;34m,\u001b[0m \u001b[0mOSError\u001b[0m\u001b[0;34m)\u001b[0m \u001b[0;32mas\u001b[0m \u001b[0merror\u001b[0m\u001b[0;34m:\u001b[0m\u001b[0;34m\u001b[0m\u001b[0;34m\u001b[0m\u001b[0m\n\u001b[1;32m    326\u001b[0m             log.error(\"Failed to read data from connection \"\n",
      "\u001b[0;32m~/opt/anaconda3/envs/neo4j_build/lib/python3.7/site-packages/neo4j/io/_bolt4x1.py\u001b[0m in \u001b[0;36m__next__\u001b[0;34m(self)\u001b[0m\n\u001b[1;32m    502\u001b[0m \u001b[0;34m\u001b[0m\u001b[0m\n\u001b[1;32m    503\u001b[0m     \u001b[0;32mdef\u001b[0m \u001b[0m__next__\u001b[0m\u001b[0;34m(\u001b[0m\u001b[0mself\u001b[0m\u001b[0;34m)\u001b[0m\u001b[0;34m:\u001b[0m\u001b[0;34m\u001b[0m\u001b[0;34m\u001b[0m\u001b[0m\n\u001b[0;32m--> 504\u001b[0;31m         \u001b[0mtag\u001b[0m\u001b[0;34m,\u001b[0m \u001b[0mfields\u001b[0m \u001b[0;34m=\u001b[0m \u001b[0mself\u001b[0m\u001b[0;34m.\u001b[0m\u001b[0mpop\u001b[0m\u001b[0;34m(\u001b[0m\u001b[0;34m)\u001b[0m\u001b[0;34m\u001b[0m\u001b[0;34m\u001b[0m\u001b[0m\n\u001b[0m\u001b[1;32m    505\u001b[0m         \u001b[0;32mif\u001b[0m \u001b[0mtag\u001b[0m \u001b[0;34m==\u001b[0m \u001b[0;34mb\"\\x71\"\u001b[0m\u001b[0;34m:\u001b[0m\u001b[0;34m\u001b[0m\u001b[0;34m\u001b[0m\u001b[0m\n\u001b[1;32m    506\u001b[0m             \u001b[0;32mreturn\u001b[0m \u001b[0mfields\u001b[0m\u001b[0;34m,\u001b[0m \u001b[0;32mNone\u001b[0m\u001b[0;34m,\u001b[0m \u001b[0;32mNone\u001b[0m\u001b[0;34m\u001b[0m\u001b[0;34m\u001b[0m\u001b[0m\n",
      "\u001b[0;32m~/opt/anaconda3/envs/neo4j_build/lib/python3.7/site-packages/neo4j/io/_courier.py\u001b[0m in \u001b[0;36mpop\u001b[0;34m(self)\u001b[0m\n\u001b[1;32m     64\u001b[0m \u001b[0;34m\u001b[0m\u001b[0m\n\u001b[1;32m     65\u001b[0m     \u001b[0;32mdef\u001b[0m \u001b[0mpop\u001b[0m\u001b[0;34m(\u001b[0m\u001b[0mself\u001b[0m\u001b[0;34m)\u001b[0m\u001b[0;34m:\u001b[0m\u001b[0;34m\u001b[0m\u001b[0;34m\u001b[0m\u001b[0m\n\u001b[0;32m---> 66\u001b[0;31m         \u001b[0;32mreturn\u001b[0m \u001b[0mnext\u001b[0m\u001b[0;34m(\u001b[0m\u001b[0mself\u001b[0m\u001b[0;34m.\u001b[0m\u001b[0m_messages\u001b[0m\u001b[0;34m)\u001b[0m\u001b[0;34m\u001b[0m\u001b[0;34m\u001b[0m\u001b[0m\n\u001b[0m",
      "\u001b[0;32m~/opt/anaconda3/envs/neo4j_build/lib/python3.7/site-packages/neo4j/io/_courier.py\u001b[0m in \u001b[0;36m_yield_messages\u001b[0;34m(self, sock)\u001b[0m\n\u001b[1;32m     44\u001b[0m                 \u001b[0;32mwhile\u001b[0m \u001b[0mchunk_size\u001b[0m \u001b[0;34m==\u001b[0m \u001b[0;36m0\u001b[0m\u001b[0;34m:\u001b[0m\u001b[0;34m\u001b[0m\u001b[0;34m\u001b[0m\u001b[0m\n\u001b[1;32m     45\u001b[0m                     \u001b[0;31m# Determine the chunk size and skip noop\u001b[0m\u001b[0;34m\u001b[0m\u001b[0;34m\u001b[0m\u001b[0;34m\u001b[0m\u001b[0m\n\u001b[0;32m---> 46\u001b[0;31m                     \u001b[0mbuffer\u001b[0m\u001b[0;34m.\u001b[0m\u001b[0mreceive\u001b[0m\u001b[0;34m(\u001b[0m\u001b[0msock\u001b[0m\u001b[0;34m,\u001b[0m \u001b[0;36m2\u001b[0m\u001b[0;34m)\u001b[0m\u001b[0;34m\u001b[0m\u001b[0;34m\u001b[0m\u001b[0m\n\u001b[0m\u001b[1;32m     47\u001b[0m                     \u001b[0mchunk_size\u001b[0m \u001b[0;34m=\u001b[0m \u001b[0mbuffer\u001b[0m\u001b[0;34m.\u001b[0m\u001b[0mpop_u16\u001b[0m\u001b[0;34m(\u001b[0m\u001b[0;34m)\u001b[0m\u001b[0;34m\u001b[0m\u001b[0;34m\u001b[0m\u001b[0m\n\u001b[1;32m     48\u001b[0m                     \u001b[0;32mif\u001b[0m \u001b[0mchunk_size\u001b[0m \u001b[0;34m==\u001b[0m \u001b[0;36m0\u001b[0m\u001b[0;34m:\u001b[0m\u001b[0;34m\u001b[0m\u001b[0;34m\u001b[0m\u001b[0m\n",
      "\u001b[0;32m~/opt/anaconda3/envs/neo4j_build/lib/python3.7/site-packages/neo4j/packstream.py\u001b[0m in \u001b[0;36mreceive\u001b[0;34m(self, sock, n_bytes)\u001b[0m\n\u001b[1;32m    603\u001b[0m         \u001b[0mview\u001b[0m \u001b[0;34m=\u001b[0m \u001b[0mmemoryview\u001b[0m\u001b[0;34m(\u001b[0m\u001b[0mself\u001b[0m\u001b[0;34m.\u001b[0m\u001b[0mdata\u001b[0m\u001b[0;34m)\u001b[0m\u001b[0;34m\u001b[0m\u001b[0;34m\u001b[0m\u001b[0m\n\u001b[1;32m    604\u001b[0m         \u001b[0;32mwhile\u001b[0m \u001b[0mself\u001b[0m\u001b[0;34m.\u001b[0m\u001b[0mused\u001b[0m \u001b[0;34m<\u001b[0m \u001b[0mend\u001b[0m\u001b[0;34m:\u001b[0m\u001b[0;34m\u001b[0m\u001b[0;34m\u001b[0m\u001b[0m\n\u001b[0;32m--> 605\u001b[0;31m             \u001b[0mn\u001b[0m \u001b[0;34m=\u001b[0m \u001b[0msock\u001b[0m\u001b[0;34m.\u001b[0m\u001b[0mrecv_into\u001b[0m\u001b[0;34m(\u001b[0m\u001b[0mview\u001b[0m\u001b[0;34m[\u001b[0m\u001b[0mself\u001b[0m\u001b[0;34m.\u001b[0m\u001b[0mused\u001b[0m\u001b[0;34m:\u001b[0m\u001b[0mend\u001b[0m\u001b[0;34m]\u001b[0m\u001b[0;34m,\u001b[0m \u001b[0mend\u001b[0m \u001b[0;34m-\u001b[0m \u001b[0mself\u001b[0m\u001b[0;34m.\u001b[0m\u001b[0mused\u001b[0m\u001b[0;34m)\u001b[0m\u001b[0;34m\u001b[0m\u001b[0;34m\u001b[0m\u001b[0m\n\u001b[0m\u001b[1;32m    606\u001b[0m             \u001b[0;32mif\u001b[0m \u001b[0mn\u001b[0m \u001b[0;34m==\u001b[0m \u001b[0;36m0\u001b[0m\u001b[0;34m:\u001b[0m\u001b[0;34m\u001b[0m\u001b[0;34m\u001b[0m\u001b[0m\n\u001b[1;32m    607\u001b[0m                 \u001b[0;32mraise\u001b[0m \u001b[0mOSError\u001b[0m\u001b[0;34m(\u001b[0m\u001b[0;34m\"No data\"\u001b[0m\u001b[0;34m)\u001b[0m\u001b[0;34m\u001b[0m\u001b[0;34m\u001b[0m\u001b[0m\n",
      "\u001b[0;31mKeyboardInterrupt\u001b[0m: "
     ]
    }
   ],
   "source": [
    "# get all types of predicate\n",
    "query=\"\"\"\n",
    "MATCH (gwas:Gwas)-[gs:GWAS_TO_LITERATURE_TRIPLE]->(triple:LiteratureTriple) -[sl:SEMMEDDB_TO_LIT]->(lit:Literature) \n",
    "return distinct triple.predicate limit 43\n",
    "\"\"\"\n",
    "df = query_to_df(query)\n",
    "df\n"
   ]
  },
  {
   "cell_type": "markdown",
   "metadata": {},
   "source": [
    "### Example query \"GWAS - literature - GWAS\""
   ]
  },
  {
   "cell_type": "code",
   "execution_count": 4,
   "metadata": {},
   "outputs": [
    {
     "name": "stdout",
     "output_type": "stream",
     "text": [
      "\n",
      "MATCH (gwas:Gwas)-[gwas_to_lit1:GWAS_TO_LITERATURE_TRIPLE]->(s1:LiteratureTriple) \n",
      "-[:SEMMEDDB_OBJ]->(lit_term:LiteratureTerm)<-[:SEMMEDDB_SUB]- (s2:LiteratureTriple)<-[gwas_to_lit2:GWAS_TO_LITERATURE_TRIPLE]-(assoc_gwas:Gwas) \n",
      "WHERE gwas.id = \"ieu-a-1096\" AND assoc_gwas.id = \"ieu-a-1126\" \n",
      "AND gwas_to_lit1.pval < 1e-05 AND gwas_to_lit2.pval < 1e-05 \n",
      "AND NOT lit_term.type IN ['nusq','dsyn'] \n",
      "RETURN distinct gwas.id, gwas.trait, gwas_to_lit1.pval,  s1.predicate, lit_term.name, s2.predicate, gwas_to_lit2.pval, assoc_gwas.id, assoc_gwas.trait \n",
      "order by gwas_to_lit2.pval\n",
      "SKIP 0 LIMIT 1000\n",
      "\n"
     ]
    },
    {
     "data": {
      "text/html": [
       "<div>\n",
       "<style scoped>\n",
       "    .dataframe tbody tr th:only-of-type {\n",
       "        vertical-align: middle;\n",
       "    }\n",
       "\n",
       "    .dataframe tbody tr th {\n",
       "        vertical-align: top;\n",
       "    }\n",
       "\n",
       "    .dataframe thead th {\n",
       "        text-align: right;\n",
       "    }\n",
       "</style>\n",
       "<table border=\"1\" class=\"dataframe\">\n",
       "  <thead>\n",
       "    <tr style=\"text-align: right;\">\n",
       "      <th></th>\n",
       "      <th>gwas.id</th>\n",
       "      <th>gwas.trait</th>\n",
       "      <th>gwas_to_lit1.pval</th>\n",
       "      <th>s1.predicate</th>\n",
       "      <th>lit_term.name</th>\n",
       "      <th>s2.predicate</th>\n",
       "      <th>gwas_to_lit2.pval</th>\n",
       "      <th>assoc_gwas.id</th>\n",
       "      <th>assoc_gwas.trait</th>\n",
       "    </tr>\n",
       "  </thead>\n",
       "  <tbody>\n",
       "    <tr>\n",
       "      <th>0</th>\n",
       "      <td>ieu-a-1096</td>\n",
       "      <td>Childhood obesity</td>\n",
       "      <td>8.204412e-06</td>\n",
       "      <td>INHIBITS</td>\n",
       "      <td>H3F3AP6</td>\n",
       "      <td>STIMULATES</td>\n",
       "      <td>2.287763e-14</td>\n",
       "      <td>ieu-a-1126</td>\n",
       "      <td>Breast cancer (Combined Oncoarray; iCOGS; GWAS...</td>\n",
       "    </tr>\n",
       "    <tr>\n",
       "      <th>1</th>\n",
       "      <td>ieu-a-1096</td>\n",
       "      <td>Childhood obesity</td>\n",
       "      <td>8.204412e-06</td>\n",
       "      <td>INHIBITS</td>\n",
       "      <td>NSG1</td>\n",
       "      <td>STIMULATES</td>\n",
       "      <td>2.287763e-14</td>\n",
       "      <td>ieu-a-1126</td>\n",
       "      <td>Breast cancer (Combined Oncoarray; iCOGS; GWAS...</td>\n",
       "    </tr>\n",
       "    <tr>\n",
       "      <th>2</th>\n",
       "      <td>ieu-a-1096</td>\n",
       "      <td>Childhood obesity</td>\n",
       "      <td>8.204412e-06</td>\n",
       "      <td>INHIBITS</td>\n",
       "      <td>TCEAL1</td>\n",
       "      <td>STIMULATES</td>\n",
       "      <td>2.287763e-14</td>\n",
       "      <td>ieu-a-1126</td>\n",
       "      <td>Breast cancer (Combined Oncoarray; iCOGS; GWAS...</td>\n",
       "    </tr>\n",
       "    <tr>\n",
       "      <th>3</th>\n",
       "      <td>ieu-a-1096</td>\n",
       "      <td>Childhood obesity</td>\n",
       "      <td>8.204412e-06</td>\n",
       "      <td>INHIBITS</td>\n",
       "      <td>CDKN1A</td>\n",
       "      <td>STIMULATES</td>\n",
       "      <td>2.287763e-14</td>\n",
       "      <td>ieu-a-1126</td>\n",
       "      <td>Breast cancer (Combined Oncoarray; iCOGS; GWAS...</td>\n",
       "    </tr>\n",
       "    <tr>\n",
       "      <th>4</th>\n",
       "      <td>ieu-a-1096</td>\n",
       "      <td>Childhood obesity</td>\n",
       "      <td>8.204412e-06</td>\n",
       "      <td>ASSOCIATED_WITH</td>\n",
       "      <td>Obesity</td>\n",
       "      <td>PREDISPOSES</td>\n",
       "      <td>1.804619e-12</td>\n",
       "      <td>ieu-a-1126</td>\n",
       "      <td>Breast cancer (Combined Oncoarray; iCOGS; GWAS...</td>\n",
       "    </tr>\n",
       "    <tr>\n",
       "      <th>...</th>\n",
       "      <td>...</td>\n",
       "      <td>...</td>\n",
       "      <td>...</td>\n",
       "      <td>...</td>\n",
       "      <td>...</td>\n",
       "      <td>...</td>\n",
       "      <td>...</td>\n",
       "      <td>...</td>\n",
       "      <td>...</td>\n",
       "    </tr>\n",
       "    <tr>\n",
       "      <th>506</th>\n",
       "      <td>ieu-a-1096</td>\n",
       "      <td>Childhood obesity</td>\n",
       "      <td>4.543086e-07</td>\n",
       "      <td>COEXISTS_WITH</td>\n",
       "      <td>leptin</td>\n",
       "      <td>STIMULATES</td>\n",
       "      <td>5.440435e-06</td>\n",
       "      <td>ieu-a-1126</td>\n",
       "      <td>Breast cancer (Combined Oncoarray; iCOGS; GWAS...</td>\n",
       "    </tr>\n",
       "    <tr>\n",
       "      <th>507</th>\n",
       "      <td>ieu-a-1096</td>\n",
       "      <td>Childhood obesity</td>\n",
       "      <td>8.847083e-13</td>\n",
       "      <td>COEXISTS_WITH</td>\n",
       "      <td>Insulin</td>\n",
       "      <td>STIMULATES</td>\n",
       "      <td>5.440435e-06</td>\n",
       "      <td>ieu-a-1126</td>\n",
       "      <td>Breast cancer (Combined Oncoarray; iCOGS; GWAS...</td>\n",
       "    </tr>\n",
       "    <tr>\n",
       "      <th>508</th>\n",
       "      <td>ieu-a-1096</td>\n",
       "      <td>Childhood obesity</td>\n",
       "      <td>8.204412e-06</td>\n",
       "      <td>COEXISTS_WITH</td>\n",
       "      <td>testosterone</td>\n",
       "      <td>INTERACTS_WITH</td>\n",
       "      <td>9.004132e-06</td>\n",
       "      <td>ieu-a-1126</td>\n",
       "      <td>Breast cancer (Combined Oncoarray; iCOGS; GWAS...</td>\n",
       "    </tr>\n",
       "    <tr>\n",
       "      <th>509</th>\n",
       "      <td>ieu-a-1096</td>\n",
       "      <td>Childhood obesity</td>\n",
       "      <td>8.204412e-06</td>\n",
       "      <td>COEXISTS_WITH</td>\n",
       "      <td>testosterone</td>\n",
       "      <td>INTERACTS_WITH</td>\n",
       "      <td>9.548222e-06</td>\n",
       "      <td>ieu-a-1126</td>\n",
       "      <td>Breast cancer (Combined Oncoarray; iCOGS; GWAS...</td>\n",
       "    </tr>\n",
       "    <tr>\n",
       "      <th>510</th>\n",
       "      <td>ieu-a-1096</td>\n",
       "      <td>Childhood obesity</td>\n",
       "      <td>8.204412e-06</td>\n",
       "      <td>NEG_STIMULATES</td>\n",
       "      <td>folate</td>\n",
       "      <td>INTERACTS_WITH</td>\n",
       "      <td>9.899681e-06</td>\n",
       "      <td>ieu-a-1126</td>\n",
       "      <td>Breast cancer (Combined Oncoarray; iCOGS; GWAS...</td>\n",
       "    </tr>\n",
       "  </tbody>\n",
       "</table>\n",
       "<p>511 rows × 9 columns</p>\n",
       "</div>"
      ],
      "text/plain": [
       "        gwas.id         gwas.trait  gwas_to_lit1.pval     s1.predicate  \\\n",
       "0    ieu-a-1096  Childhood obesity       8.204412e-06         INHIBITS   \n",
       "1    ieu-a-1096  Childhood obesity       8.204412e-06         INHIBITS   \n",
       "2    ieu-a-1096  Childhood obesity       8.204412e-06         INHIBITS   \n",
       "3    ieu-a-1096  Childhood obesity       8.204412e-06         INHIBITS   \n",
       "4    ieu-a-1096  Childhood obesity       8.204412e-06  ASSOCIATED_WITH   \n",
       "..          ...                ...                ...              ...   \n",
       "506  ieu-a-1096  Childhood obesity       4.543086e-07    COEXISTS_WITH   \n",
       "507  ieu-a-1096  Childhood obesity       8.847083e-13    COEXISTS_WITH   \n",
       "508  ieu-a-1096  Childhood obesity       8.204412e-06    COEXISTS_WITH   \n",
       "509  ieu-a-1096  Childhood obesity       8.204412e-06    COEXISTS_WITH   \n",
       "510  ieu-a-1096  Childhood obesity       8.204412e-06   NEG_STIMULATES   \n",
       "\n",
       "    lit_term.name    s2.predicate  gwas_to_lit2.pval assoc_gwas.id  \\\n",
       "0         H3F3AP6      STIMULATES       2.287763e-14    ieu-a-1126   \n",
       "1            NSG1      STIMULATES       2.287763e-14    ieu-a-1126   \n",
       "2          TCEAL1      STIMULATES       2.287763e-14    ieu-a-1126   \n",
       "3          CDKN1A      STIMULATES       2.287763e-14    ieu-a-1126   \n",
       "4         Obesity     PREDISPOSES       1.804619e-12    ieu-a-1126   \n",
       "..            ...             ...                ...           ...   \n",
       "506        leptin      STIMULATES       5.440435e-06    ieu-a-1126   \n",
       "507       Insulin      STIMULATES       5.440435e-06    ieu-a-1126   \n",
       "508  testosterone  INTERACTS_WITH       9.004132e-06    ieu-a-1126   \n",
       "509  testosterone  INTERACTS_WITH       9.548222e-06    ieu-a-1126   \n",
       "510        folate  INTERACTS_WITH       9.899681e-06    ieu-a-1126   \n",
       "\n",
       "                                      assoc_gwas.trait  \n",
       "0    Breast cancer (Combined Oncoarray; iCOGS; GWAS...  \n",
       "1    Breast cancer (Combined Oncoarray; iCOGS; GWAS...  \n",
       "2    Breast cancer (Combined Oncoarray; iCOGS; GWAS...  \n",
       "3    Breast cancer (Combined Oncoarray; iCOGS; GWAS...  \n",
       "4    Breast cancer (Combined Oncoarray; iCOGS; GWAS...  \n",
       "..                                                 ...  \n",
       "506  Breast cancer (Combined Oncoarray; iCOGS; GWAS...  \n",
       "507  Breast cancer (Combined Oncoarray; iCOGS; GWAS...  \n",
       "508  Breast cancer (Combined Oncoarray; iCOGS; GWAS...  \n",
       "509  Breast cancer (Combined Oncoarray; iCOGS; GWAS...  \n",
       "510  Breast cancer (Combined Oncoarray; iCOGS; GWAS...  \n",
       "\n",
       "[511 rows x 9 columns]"
      ]
     },
     "execution_count": 4,
     "metadata": {},
     "output_type": "execute_result"
    }
   ],
   "source": [
    "# Childhood obesity -> breast cancer\n",
    "\n",
    "query=\"\"\"\n",
    "MATCH (gwas:Gwas)-[gwas_to_lit1:GWAS_TO_LITERATURE_TRIPLE]->(s1:LiteratureTriple) \n",
    "-[:SEMMEDDB_OBJ]->(lit_term:LiteratureTerm)<-[:SEMMEDDB_SUB]- (s2:LiteratureTriple)<-[gwas_to_lit2:GWAS_TO_LITERATURE_TRIPLE]-(assoc_gwas:Gwas) \n",
    "WHERE gwas.id = \"ieu-a-1096\" AND assoc_gwas.id = \"ieu-a-1126\" \n",
    "AND gwas_to_lit1.pval < 1e-05 AND gwas_to_lit2.pval < 1e-05 \n",
    "AND NOT lit_term.type IN ['nusq','dsyn'] \n",
    "RETURN distinct gwas.id, gwas.trait, gwas_to_lit1.pval,  s1.predicate, lit_term.name, s2.predicate, gwas_to_lit2.pval, assoc_gwas.id, assoc_gwas.trait \n",
    "order by gwas_to_lit2.pval\n",
    "SKIP 0 LIMIT 1000\n",
    "\"\"\"\n",
    "df_obesity_lit = query_to_df(query)\n",
    "df_obesity_lit\n"
   ]
  },
  {
   "cell_type": "code",
   "execution_count": null,
   "metadata": {},
   "outputs": [],
   "source": [
    "\n",
    "#ukb-b-4650\tComparative body size at age 10 -> breast cancer\n",
    "\n",
    "\n",
    "query=\"\"\"\n",
    "MATCH (gwas:Gwas)-[gwas_to_lit1:GWAS_TO_LITERATURE_TRIPLE]->(s1:LiteratureTriple) \n",
    "-[:SEMMEDDB_OBJ]->(lit_term:LiteratureTerm)<-[:SEMMEDDB_SUB]- (s2:LiteratureTriple)<-[gwas_to_lit2:GWAS_TO_LITERATURE_TRIPLE]-(assoc_gwas:Gwas) \n",
    "WHERE gwas.id = \"ukb-b-4650\" AND assoc_gwas.id = \"ieu-a-1126\" \n",
    "AND gwas_to_lit1.pval < 1e-05 AND gwas_to_lit2.pval < 1e-05 \n",
    "AND NOT lit_term.type IN ['nusq','dsyn'] \n",
    "RETURN distinct gwas.id, gwas.trait, gwas_to_lit1.pval,  s1.predicate, lit_term.name, s2.predicate, gwas_to_lit2.pval, assoc_gwas.id, assoc_gwas.trait \n",
    "order by gwas_to_lit2.pval\n",
    "SKIP 0 LIMIT 1000\n",
    "\"\"\"\n",
    "df_bodysize_lit = query_to_df(query)\n",
    "df_bodysize_lit"
   ]
  },
  {
   "cell_type": "code",
   "execution_count": 8,
   "metadata": {},
   "outputs": [
    {
     "data": {
      "text/plain": [
       "Obesity                 54\n",
       "leptin                  10\n",
       "LEP                      8\n",
       "metformin                6\n",
       "ethanol                  2\n",
       "Hypertensive disease     2\n",
       "Name: lit_term.name, dtype: int64"
      ]
     },
     "execution_count": 8,
     "metadata": {},
     "output_type": "execute_result"
    }
   ],
   "source": [
    "df_bodysize_lit.reset_index()['lit_term.name'].value_counts()\n",
    "\n"
   ]
  },
  {
   "cell_type": "code",
   "execution_count": 10,
   "metadata": {},
   "outputs": [
    {
     "data": {
      "text/plain": [
       "TREATS - Obesity - PRODUCES                         10\n",
       "TREATS - Obesity - PREDISPOSES                      10\n",
       "INTERACTS_WITH - leptin - STIMULATES                 8\n",
       "ASSOCIATED_WITH - Obesity - PREDISPOSES              6\n",
       "INTERACTS_WITH - LEP - STIMULATES                    6\n",
       "ASSOCIATED_WITH - Obesity - PRODUCES                 6\n",
       "COEXISTS_WITH - Obesity - PREDISPOSES                6\n",
       "COEXISTS_WITH - Obesity - PRODUCES                   6\n",
       "higher_than - metformin - INHIBITS                   3\n",
       "NEG_ASSOCIATED_WITH - Obesity - PRODUCES             3\n",
       "NEG_ASSOCIATED_WITH - Obesity - PREDISPOSES          3\n",
       "INTERACTS_WITH - leptin - INTERACTS_WITH             2\n",
       "INTERACTS_WITH - LEP - INTERACTS_WITH                2\n",
       "AUGMENTS - Obesity - PREDISPOSES                     1\n",
       "PREDISPOSES - Hypertensive disease - PREDISPOSES     1\n",
       "higher_than - metformin - ASSOCIATED_WITH            1\n",
       "COEXISTS_WITH - ethanol - INTERACTS_WITH             1\n",
       "AFFECTS - Obesity - PREDISPOSES                      1\n",
       "higher_than - metformin - COEXISTS_WITH              1\n",
       "AUGMENTS - Obesity - PRODUCES                        1\n",
       "higher_than - metformin - STIMULATES                 1\n",
       "COEXISTS_WITH - ethanol - STIMULATES                 1\n",
       "AFFECTS - Obesity - PRODUCES                         1\n",
       "TREATS - Hypertensive disease - PREDISPOSES          1\n",
       "Name: test, dtype: int64"
      ]
     },
     "execution_count": 10,
     "metadata": {},
     "output_type": "execute_result"
    }
   ],
   "source": [
    "df_bodysize_lit['test'] = df_bodysize_lit['s1.predicate'] + \" - \"+ df_bodysize_lit['lit_term.name'] + \" - \"+ df_bodysize_lit['s2.predicate']\n",
    "df_bodysize_lit.reset_index()['test'].value_counts()"
   ]
  },
  {
   "cell_type": "code",
   "execution_count": 11,
   "metadata": {},
   "outputs": [
    {
     "data": {
      "text/plain": [
       "ASSOCIATED_WITH - Obesity - PREDISPOSES                 71\n",
       "ASSOCIATED_WITH - Obesity - PRODUCES                    71\n",
       "TREATS - Obesity - PREDISPOSES                          45\n",
       "TREATS - Obesity - PRODUCES                             45\n",
       "COEXISTS_WITH - Obesity - PREDISPOSES                   36\n",
       "                                                        ..\n",
       "INHIBITS - H3F3AP6 - COEXISTS_WITH                       1\n",
       "COEXISTS_WITH - INSR - INTERACTS_WITH                    1\n",
       "ASSOCIATED_WITH - Hypertensive disease - PREDISPOSES     1\n",
       "NEG_COEXISTS_WITH - TRANCE protein - INTERACTS_WITH      1\n",
       "CAUSES - Hypertensive disease - PREDISPOSES              1\n",
       "Name: test, Length: 70, dtype: int64"
      ]
     },
     "execution_count": 11,
     "metadata": {},
     "output_type": "execute_result"
    }
   ],
   "source": [
    "df_obesity_lit['test'] = df_obesity_lit['s1.predicate'] + \" - \"+ df_obesity_lit['lit_term.name'] + \" - \"+ df_obesity_lit['s2.predicate']\n",
    "df_obesity_lit.reset_index()['test'].value_counts()"
   ]
  },
  {
   "cell_type": "code",
   "execution_count": 12,
   "metadata": {},
   "outputs": [
    {
     "data": {
      "text/plain": [
       "Obesity                 430\n",
       "leptin                   20\n",
       "Hypertensive disease     12\n",
       "LEP                       8\n",
       "CDKN1A                    6\n",
       "Insulin                   6\n",
       "NSG1                      6\n",
       "TCEAL1                    6\n",
       "H3F3AP6                   6\n",
       "TRANCE protein            2\n",
       "testosterone              2\n",
       "folate                    2\n",
       "HDAC9                     1\n",
       "INS                       1\n",
       "TGFB1                     1\n",
       "TGFB1 protein, human      1\n",
       "INSR                      1\n",
       "Name: lit_term.name, dtype: int64"
      ]
     },
     "execution_count": 12,
     "metadata": {},
     "output_type": "execute_result"
    }
   ],
   "source": [
    "df_obesity_lit.reset_index()['lit_term.name'].value_counts()\n"
   ]
  },
  {
   "cell_type": "markdown",
   "metadata": {},
   "source": [
    "## Testing literature triples\n"
   ]
  },
  {
   "cell_type": "code",
   "execution_count": 9,
   "metadata": {},
   "outputs": [
    {
     "data": {
      "text/plain": [
       "98"
      ]
     },
     "execution_count": 9,
     "metadata": {},
     "output_type": "execute_result"
    }
   ],
   "source": [
    "genes_test_df = pd.read_csv(\"query_results/bc_gwas_expressed_in_breastTissue.tsv\", sep = '\\t')\n",
    "genes_test = list(set(genes_test_df['gene.name']))\n",
    "len(genes_test)"
   ]
  },
  {
   "cell_type": "code",
   "execution_count": 10,
   "metadata": {},
   "outputs": [
    {
     "name": "stdout",
     "output_type": "stream",
     "text": [
      "\n",
      "        MATCH (g:Gene)<-[:TERM_TO_GENE]-(l1:LiteratureTerm)-[]-(lt:LiteratureTriple)-[]-(l2:LiteratureTerm)\n",
      "        WHERE g.name in ['NEK10', 'ANKLE1', 'ABO', 'ATG10', 'ADCY3', 'CREB5', 'CHEK2', 'ZNF184', 'HSCB', 'HSPA4', 'KANSL1', 'ELL', 'TET2', 'CBX8', 'MCM8', 'SETBP1', 'SSBP4', 'MKL1', 'PHLDA3', 'EBF1', 'TLR1', 'MLLT10', 'TTC28', 'LGR6', 'PEX14', 'FTO', 'SUB1', 'KCNN4', 'RIN3', 'OR2A1-AS1', 'SF3B4', 'N4BP2L1', 'TRIM46', 'CCDC88C', 'ADCY9', 'LINC-PINT', 'SLC25A22', 'USHBP1', 'ADSSL1', 'TCF7L2', 'VGLL3', 'STXBP4', 'FAM46A', 'MTMR11', 'CDYL2', 'MDM4', 'ASTN2', 'MYEOV', 'ATXN7', 'RANBP9', 'ESR1', 'GRHL1', 'L3MBTL3', 'CDCA7L', 'PLA2G6', 'ULK3', 'ARRDC3', 'AMFR', 'FGFR2', 'CUX1', 'OTUD7B', 'BABAM1', 'KRTCAP2', 'FAM175A', 'NREP', 'CASP8', 'PIDD', 'ZMIZ1', 'SCAMP2', 'GIPR', 'ARHGEF5', 'ZBTB38', 'PIK3R3', 'PDE4D', 'CMSS1', 'RPL23AP53', 'MAGI3', 'LSP1', 'ATAD5', 'ZFPM2', 'SV2A', 'DNAJC1', 'RCCD1', 'TGFBR2', 'PRC1', 'NRIP1', 'TACC2', 'ITPR1', 'GAREM', 'LMX1B', 'RNF115', 'FOXP1', 'FILIP1L', 'VPS33B', 'RP11-134G8.8', 'GATAD2A', 'CDKN2B', 'RAD51B']\n",
      "        WITH  g,lt,l1,l2\n",
      "        MATCH (lt)-[]-(lit:Literature) \n",
      "        RETURN l1.name as gene_as_litterm, lt.predicate as pred, l2.name as obj_as_litterm, lit.id ;\n",
      "    \n"
     ]
    },
    {
     "data": {
      "text/html": [
       "<div>\n",
       "<style scoped>\n",
       "    .dataframe tbody tr th:only-of-type {\n",
       "        vertical-align: middle;\n",
       "    }\n",
       "\n",
       "    .dataframe tbody tr th {\n",
       "        vertical-align: top;\n",
       "    }\n",
       "\n",
       "    .dataframe thead th {\n",
       "        text-align: right;\n",
       "    }\n",
       "</style>\n",
       "<table border=\"1\" class=\"dataframe\">\n",
       "  <thead>\n",
       "    <tr style=\"text-align: right;\">\n",
       "      <th></th>\n",
       "      <th>gene_as_litterm</th>\n",
       "      <th>pred</th>\n",
       "      <th>obj_as_litterm</th>\n",
       "      <th>lit.id</th>\n",
       "    </tr>\n",
       "  </thead>\n",
       "  <tbody>\n",
       "    <tr>\n",
       "      <th>0</th>\n",
       "      <td>NRIP1</td>\n",
       "      <td>AFFECTS</td>\n",
       "      <td>Obesity</td>\n",
       "      <td>20205832</td>\n",
       "    </tr>\n",
       "    <tr>\n",
       "      <th>1</th>\n",
       "      <td>NRIP1</td>\n",
       "      <td>AFFECTS</td>\n",
       "      <td>Obesity</td>\n",
       "      <td>20680503</td>\n",
       "    </tr>\n",
       "    <tr>\n",
       "      <th>2</th>\n",
       "      <td>NRIP1</td>\n",
       "      <td>INHIBITS</td>\n",
       "      <td>HOXA5</td>\n",
       "      <td>19862326</td>\n",
       "    </tr>\n",
       "    <tr>\n",
       "      <th>3</th>\n",
       "      <td>NRIP1</td>\n",
       "      <td>COEXISTS_WITH</td>\n",
       "      <td>Tretinoin</td>\n",
       "      <td>19862326</td>\n",
       "    </tr>\n",
       "    <tr>\n",
       "      <th>4</th>\n",
       "      <td>NRIP1</td>\n",
       "      <td>STIMULATES</td>\n",
       "      <td>Receptors, Nuclear</td>\n",
       "      <td>19862326</td>\n",
       "    </tr>\n",
       "    <tr>\n",
       "      <th>...</th>\n",
       "      <td>...</td>\n",
       "      <td>...</td>\n",
       "      <td>...</td>\n",
       "      <td>...</td>\n",
       "    </tr>\n",
       "    <tr>\n",
       "      <th>42540</th>\n",
       "      <td>TGFBR2</td>\n",
       "      <td>INTERACTS_WITH</td>\n",
       "      <td>Transforming Growth Factor beta</td>\n",
       "      <td>26627606</td>\n",
       "    </tr>\n",
       "    <tr>\n",
       "      <th>42541</th>\n",
       "      <td>TGFBR2</td>\n",
       "      <td>INTERACTS_WITH</td>\n",
       "      <td>Transforming Growth Factor beta</td>\n",
       "      <td>17056535</td>\n",
       "    </tr>\n",
       "    <tr>\n",
       "      <th>42542</th>\n",
       "      <td>TGFBR2</td>\n",
       "      <td>INTERACTS_WITH</td>\n",
       "      <td>Transforming Growth Factor beta</td>\n",
       "      <td>10426193</td>\n",
       "    </tr>\n",
       "    <tr>\n",
       "      <th>42543</th>\n",
       "      <td>TGFBR2</td>\n",
       "      <td>INTERACTS_WITH</td>\n",
       "      <td>Transforming Growth Factor beta</td>\n",
       "      <td>26169354</td>\n",
       "    </tr>\n",
       "    <tr>\n",
       "      <th>42544</th>\n",
       "      <td>TGFBR2</td>\n",
       "      <td>INHIBITS</td>\n",
       "      <td>Mitogen-Activated Protein Kinases</td>\n",
       "      <td>24401272</td>\n",
       "    </tr>\n",
       "  </tbody>\n",
       "</table>\n",
       "<p>42545 rows × 4 columns</p>\n",
       "</div>"
      ],
      "text/plain": [
       "      gene_as_litterm            pred                     obj_as_litterm  \\\n",
       "0               NRIP1         AFFECTS                            Obesity   \n",
       "1               NRIP1         AFFECTS                            Obesity   \n",
       "2               NRIP1        INHIBITS                              HOXA5   \n",
       "3               NRIP1   COEXISTS_WITH                          Tretinoin   \n",
       "4               NRIP1      STIMULATES                 Receptors, Nuclear   \n",
       "...               ...             ...                                ...   \n",
       "42540          TGFBR2  INTERACTS_WITH    Transforming Growth Factor beta   \n",
       "42541          TGFBR2  INTERACTS_WITH    Transforming Growth Factor beta   \n",
       "42542          TGFBR2  INTERACTS_WITH    Transforming Growth Factor beta   \n",
       "42543          TGFBR2  INTERACTS_WITH    Transforming Growth Factor beta   \n",
       "42544          TGFBR2        INHIBITS  Mitogen-Activated Protein Kinases   \n",
       "\n",
       "         lit.id  \n",
       "0      20205832  \n",
       "1      20680503  \n",
       "2      19862326  \n",
       "3      19862326  \n",
       "4      19862326  \n",
       "...         ...  \n",
       "42540  26627606  \n",
       "42541  17056535  \n",
       "42542  10426193  \n",
       "42543  26169354  \n",
       "42544  24401272  \n",
       "\n",
       "[42545 rows x 4 columns]"
      ]
     },
     "execution_count": 10,
     "metadata": {},
     "output_type": "execute_result"
    }
   ],
   "source": [
    "\n",
    "GENE_LIST = genes_test # genes expressed in breast tissues with effect in GWAS\n",
    "\n",
    "# tophits in GWAS -> genes -> expressed in Breast tissue -> map to lit -> triple to other lit term\n",
    "query = \"\"\"\n",
    "        MATCH (g:Gene)<-[:TERM_TO_GENE]-(l1:LiteratureTerm)-[]-(lt:LiteratureTriple)-[]-(l2:LiteratureTerm)\n",
    "        WHERE g.name in {gene_list}\n",
    "        WITH  g,lt,l1,l2\n",
    "        MATCH (lt)-[]-(lit:Literature) \n",
    "        RETURN l1.name as gene_as_litterm, lt.predicate as pred, l2.name as obj_as_litterm, lit.id ;\n",
    "    \"\"\".format(gene_list=GENE_LIST)\n",
    "df= query_to_df(query)\n",
    "df"
   ]
  },
  {
   "cell_type": "code",
   "execution_count": 39,
   "metadata": {},
   "outputs": [],
   "source": [
    "#GENE_LIST = ['ATG10']\n",
    "\n",
    "# Do not run full - too long\n",
    "\n",
    "GENE_LIST = genes_test\n",
    "query = \"\"\"\n",
    "        MATCH (g:Gene)<-[:TERM_TO_GENE]-(l1:LiteratureTerm)-[]-(lt1:LiteratureTriple)-[]-(l2:LiteratureTerm)-[]-(lt2:LiteratureTriple)-[]-(l3:LiteratureTerm)\n",
    "        WHERE g.name in {gene_list}\n",
    "        WITH  g,l1,lt1, l2, lt2, l3\n",
    "        MATCH (lt1)-[]-(lit:Literature) \n",
    "        RETURN l1.name as term1, lt1.predicate as pred1, l2.name as term2 ,  lt2.predicate as pred2, l3.name as term3 , lit.id\n",
    "\n",
    "    \"\"\".format(gene_list=GENE_LIST)\n",
    "#df= query_to_df(query)\n",
    "#df"
   ]
  },
  {
   "cell_type": "code",
   "execution_count": 11,
   "metadata": {},
   "outputs": [
    {
     "name": "stdout",
     "output_type": "stream",
     "text": [
      "\n",
      "MATCH (g:Gene)<-[:TERM_TO_GENE]-(l1:LiteratureTerm)-[]-(lt1:LiteratureTriple)-[]-(l2:LiteratureTerm)-[]-(lt2:LiteratureTriple)-[]-(l3:LiteratureTerm)-[:MONDO_MAP_UMLS]-(d:Disease)\n",
      "WHERE g.name in ['NEK10', 'ANKLE1', 'ABO', 'ATG10', 'ADCY3', 'CREB5', 'CHEK2', 'ZNF184', 'HSCB', 'HSPA4', 'KANSL1', 'ELL', 'TET2', 'CBX8', 'MCM8', 'SETBP1', 'SSBP4', 'MKL1', 'PHLDA3', 'EBF1', 'TLR1', 'MLLT10', 'TTC28', 'LGR6', 'PEX14', 'FTO', 'SUB1', 'KCNN4', 'RIN3', 'OR2A1-AS1', 'SF3B4', 'N4BP2L1', 'TRIM46', 'CCDC88C', 'ADCY9', 'LINC-PINT', 'SLC25A22', 'USHBP1', 'ADSSL1', 'TCF7L2', 'VGLL3', 'STXBP4', 'FAM46A', 'MTMR11', 'CDYL2', 'MDM4', 'ASTN2', 'MYEOV', 'ATXN7', 'RANBP9', 'ESR1', 'GRHL1', 'L3MBTL3', 'CDCA7L', 'PLA2G6', 'ULK3', 'ARRDC3', 'AMFR', 'FGFR2', 'CUX1', 'OTUD7B', 'BABAM1', 'KRTCAP2', 'FAM175A', 'NREP', 'CASP8', 'PIDD', 'ZMIZ1', 'SCAMP2', 'GIPR', 'ARHGEF5', 'ZBTB38', 'PIK3R3', 'PDE4D', 'CMSS1', 'RPL23AP53', 'MAGI3', 'LSP1', 'ATAD5', 'ZFPM2', 'SV2A', 'DNAJC1', 'RCCD1', 'TGFBR2', 'PRC1', 'NRIP1', 'TACC2', 'ITPR1', 'GAREM', 'LMX1B', 'RNF115', 'FOXP1', 'FILIP1L', 'VPS33B', 'RP11-134G8.8', 'GATAD2A', 'CDKN2B', 'RAD51B'] \n",
      "AND toLower(l2.name) contains 'breast'\n",
      "WITH  g,l1,lt1, l2, lt2, l3, d\n",
      "MATCH (lt1)-[]-(lit1:Literature) \n",
      "MATCH (lt2)-[]-(lit2:Literature) \n",
      "RETURN l1.name as term1, lt1.predicate as pred1,\n",
      "        l2.name as term2 ,  lt2.predicate as pred2,\n",
      "        l3.name as term3 , d.label as Disease,\n",
      "        lit1.id, lit2.id\n",
      "\n"
     ]
    },
    {
     "data": {
      "text/html": [
       "<div>\n",
       "<style scoped>\n",
       "    .dataframe tbody tr th:only-of-type {\n",
       "        vertical-align: middle;\n",
       "    }\n",
       "\n",
       "    .dataframe tbody tr th {\n",
       "        vertical-align: top;\n",
       "    }\n",
       "\n",
       "    .dataframe thead th {\n",
       "        text-align: right;\n",
       "    }\n",
       "</style>\n",
       "<table border=\"1\" class=\"dataframe\">\n",
       "  <thead>\n",
       "    <tr style=\"text-align: right;\">\n",
       "      <th></th>\n",
       "      <th>term1</th>\n",
       "      <th>pred1</th>\n",
       "      <th>term2</th>\n",
       "      <th>pred2</th>\n",
       "      <th>term3</th>\n",
       "      <th>Disease</th>\n",
       "      <th>lit1.id</th>\n",
       "      <th>lit2.id</th>\n",
       "    </tr>\n",
       "  </thead>\n",
       "  <tbody>\n",
       "    <tr>\n",
       "      <th>0</th>\n",
       "      <td>ESR1</td>\n",
       "      <td>ASSOCIATED_WITH</td>\n",
       "      <td>Breast Fibrocystic Change, Proliferative Type</td>\n",
       "      <td>COEXISTS_WITH</td>\n",
       "      <td>Breast Diseases</td>\n",
       "      <td>breast disease</td>\n",
       "      <td>16327431</td>\n",
       "      <td>17417639</td>\n",
       "    </tr>\n",
       "    <tr>\n",
       "      <th>1</th>\n",
       "      <td>ESR1</td>\n",
       "      <td>ASSOCIATED_WITH</td>\n",
       "      <td>Breast Fibrocystic Change, Proliferative Type</td>\n",
       "      <td>AFFECTS</td>\n",
       "      <td>Breast Diseases</td>\n",
       "      <td>breast disease</td>\n",
       "      <td>16327431</td>\n",
       "      <td>11289127</td>\n",
       "    </tr>\n",
       "    <tr>\n",
       "      <th>2</th>\n",
       "      <td>ARHGEF5</td>\n",
       "      <td>AFFECTS</td>\n",
       "      <td>Breast Fibrocystic Change, Proliferative Type</td>\n",
       "      <td>COEXISTS_WITH</td>\n",
       "      <td>Breast Diseases</td>\n",
       "      <td>breast disease</td>\n",
       "      <td>14662653</td>\n",
       "      <td>17417639</td>\n",
       "    </tr>\n",
       "    <tr>\n",
       "      <th>3</th>\n",
       "      <td>ARHGEF5</td>\n",
       "      <td>AFFECTS</td>\n",
       "      <td>Breast Fibrocystic Change, Proliferative Type</td>\n",
       "      <td>AFFECTS</td>\n",
       "      <td>Breast Diseases</td>\n",
       "      <td>breast disease</td>\n",
       "      <td>14662653</td>\n",
       "      <td>11289127</td>\n",
       "    </tr>\n",
       "  </tbody>\n",
       "</table>\n",
       "</div>"
      ],
      "text/plain": [
       "     term1            pred1                                          term2  \\\n",
       "0     ESR1  ASSOCIATED_WITH  Breast Fibrocystic Change, Proliferative Type   \n",
       "1     ESR1  ASSOCIATED_WITH  Breast Fibrocystic Change, Proliferative Type   \n",
       "2  ARHGEF5          AFFECTS  Breast Fibrocystic Change, Proliferative Type   \n",
       "3  ARHGEF5          AFFECTS  Breast Fibrocystic Change, Proliferative Type   \n",
       "\n",
       "           pred2            term3         Disease   lit1.id   lit2.id  \n",
       "0  COEXISTS_WITH  Breast Diseases  breast disease  16327431  17417639  \n",
       "1        AFFECTS  Breast Diseases  breast disease  16327431  11289127  \n",
       "2  COEXISTS_WITH  Breast Diseases  breast disease  14662653  17417639  \n",
       "3        AFFECTS  Breast Diseases  breast disease  14662653  11289127  "
      ]
     },
     "execution_count": 11,
     "metadata": {},
     "output_type": "execute_result"
    }
   ],
   "source": [
    "gene_list = genes_test \n",
    "\n",
    "# tophits in GWAS -> genes -> expressed in Breast tissue -> map to lit -> other term -> predicate to a disease\n",
    "# where middle term contains 'breast'\n",
    "query=\"\"\"\n",
    "MATCH (g:Gene)<-[:TERM_TO_GENE]-(l1:LiteratureTerm)-[]-(lt1:LiteratureTriple)-[]-(l2:LiteratureTerm)-[]-(lt2:LiteratureTriple)-[]-(l3:LiteratureTerm)-[:MONDO_MAP_UMLS]-(d:Disease)\n",
    "WHERE g.name in {} \n",
    "AND toLower(l2.name) contains 'breast'\n",
    "WITH  g,l1,lt1, l2, lt2, l3, d\n",
    "MATCH (lt1)-[]-(lit1:Literature) \n",
    "MATCH (lt2)-[]-(lit2:Literature) \n",
    "RETURN l1.name as term1, lt1.predicate as pred1,\n",
    "        l2.name as term2 ,  lt2.predicate as pred2,\n",
    "        l3.name as term3 , d.label as Disease,\n",
    "        lit1.id, lit2.id\n",
    "\"\"\".format(gene_list)\n",
    "\n",
    "df= query_to_df(query)\n",
    "df"
   ]
  },
  {
   "cell_type": "code",
   "execution_count": null,
   "metadata": {},
   "outputs": [],
   "source": []
  },
  {
   "cell_type": "code",
   "execution_count": 17,
   "metadata": {},
   "outputs": [
    {
     "ename": "NameError",
     "evalue": "name 'requests' is not defined",
     "output_type": "error",
     "traceback": [
      "\u001b[0;31m---------------------------------------------------------------------------\u001b[0m",
      "\u001b[0;31mNameError\u001b[0m                                 Traceback (most recent call last)",
      "\u001b[0;32m<ipython-input-17-ed75900fa39d>\u001b[0m in \u001b[0;36m<module>\u001b[0;34m\u001b[0m\n\u001b[1;32m      8\u001b[0m     \u001b[0;32mreturn\u001b[0m \u001b[0mdf\u001b[0m\u001b[0;34m\u001b[0m\u001b[0;34m\u001b[0m\u001b[0m\n\u001b[1;32m      9\u001b[0m \u001b[0;34m\u001b[0m\u001b[0m\n\u001b[0;32m---> 10\u001b[0;31m \u001b[0msentence_data\u001b[0m \u001b[0;34m=\u001b[0m \u001b[0mget_sentence_data\u001b[0m\u001b[0;34m(\u001b[0m\u001b[0;34m\"17417639\"\u001b[0m\u001b[0;34m)\u001b[0m\u001b[0;34m\u001b[0m\u001b[0;34m\u001b[0m\u001b[0m\n\u001b[0m\u001b[1;32m     11\u001b[0m \u001b[0;32mfor\u001b[0m \u001b[0mss\u001b[0m \u001b[0;32min\u001b[0m \u001b[0msentence_data\u001b[0m\u001b[0;34m[\u001b[0m\u001b[0;34m\"data\"\u001b[0m\u001b[0;34m]\u001b[0m\u001b[0;34m:\u001b[0m\u001b[0;34m\u001b[0m\u001b[0;34m\u001b[0m\u001b[0m\n\u001b[1;32m     12\u001b[0m     \u001b[0;32mfor\u001b[0m \u001b[0ms\u001b[0m \u001b[0;32min\u001b[0m \u001b[0mss\u001b[0m\u001b[0;34m:\u001b[0m\u001b[0;34m\u001b[0m\u001b[0;34m\u001b[0m\u001b[0m\n",
      "\u001b[0;32m<ipython-input-17-ed75900fa39d>\u001b[0m in \u001b[0;36mget_sentence_data\u001b[0;34m(pmid)\u001b[0m\n\u001b[1;32m      3\u001b[0m     \u001b[0murl\u001b[0m \u001b[0;34m=\u001b[0m \u001b[0;34m\"https://melodi-presto.mrcieu.ac.uk/api/sentence/\"\u001b[0m\u001b[0;34m\u001b[0m\u001b[0;34m\u001b[0m\u001b[0m\n\u001b[1;32m      4\u001b[0m     \u001b[0mparams\u001b[0m \u001b[0;34m=\u001b[0m \u001b[0;34m{\u001b[0m \u001b[0;34m\"pmid\"\u001b[0m\u001b[0;34m:\u001b[0m \u001b[0mpmid\u001b[0m\u001b[0;34m,\u001b[0m\u001b[0;34m}\u001b[0m\u001b[0;34m\u001b[0m\u001b[0;34m\u001b[0m\u001b[0m\n\u001b[0;32m----> 5\u001b[0;31m     \u001b[0mresponse\u001b[0m \u001b[0;34m=\u001b[0m \u001b[0mrequests\u001b[0m\u001b[0;34m.\u001b[0m\u001b[0mpost\u001b[0m\u001b[0;34m(\u001b[0m\u001b[0murl\u001b[0m\u001b[0;34m,\u001b[0m \u001b[0mdata\u001b[0m\u001b[0;34m=\u001b[0m\u001b[0mjson\u001b[0m\u001b[0;34m.\u001b[0m\u001b[0mdumps\u001b[0m\u001b[0;34m(\u001b[0m\u001b[0mparams\u001b[0m\u001b[0;34m)\u001b[0m\u001b[0;34m)\u001b[0m\u001b[0;34m\u001b[0m\u001b[0;34m\u001b[0m\u001b[0m\n\u001b[0m\u001b[1;32m      6\u001b[0m     \u001b[0mres\u001b[0m \u001b[0;34m=\u001b[0m \u001b[0mresponse\u001b[0m\u001b[0;34m.\u001b[0m\u001b[0mjson\u001b[0m\u001b[0;34m(\u001b[0m\u001b[0;34m)\u001b[0m\u001b[0;34m\u001b[0m\u001b[0;34m\u001b[0m\u001b[0m\n\u001b[1;32m      7\u001b[0m     \u001b[0mdf\u001b[0m \u001b[0;34m=\u001b[0m \u001b[0mpd\u001b[0m\u001b[0;34m.\u001b[0m\u001b[0mjson_normalize\u001b[0m\u001b[0;34m(\u001b[0m\u001b[0mres\u001b[0m\u001b[0;34m)\u001b[0m\u001b[0;34m\u001b[0m\u001b[0;34m\u001b[0m\u001b[0m\n",
      "\u001b[0;31mNameError\u001b[0m: name 'requests' is not defined"
     ]
    }
   ],
   "source": [
    "# extarct sentences where those lit predicates come from:\n",
    "def get_sentence_data(pmid):\n",
    "    url = \"https://melodi-presto.mrcieu.ac.uk/api/sentence/\"\n",
    "    params = { \"pmid\": pmid,}\n",
    "    response = requests.post(url, data=json.dumps(params))\n",
    "    res = response.json()\n",
    "    df = pd.json_normalize(res)\n",
    "    return df\n",
    "\n",
    "sentence_data = get_sentence_data(\"17417639\")\n",
    "for ss in sentence_data[\"data\"]:\n",
    "    for s in ss:\n",
    "        print(s[\"SUB_PRED_OBJ\"])\n",
    "        print(\"SENTENCE:\", s[\"SENTENCE\"])\n",
    "        print(\"\\n\")"
   ]
  },
  {
   "cell_type": "code",
   "execution_count": 18,
   "metadata": {},
   "outputs": [
    {
     "ename": "NameError",
     "evalue": "name 'requests' is not defined",
     "output_type": "error",
     "traceback": [
      "\u001b[0;31m---------------------------------------------------------------------------\u001b[0m",
      "\u001b[0;31mNameError\u001b[0m                                 Traceback (most recent call last)",
      "\u001b[0;32m<ipython-input-18-a06743de80be>\u001b[0m in \u001b[0;36m<module>\u001b[0;34m\u001b[0m\n\u001b[0;32m----> 1\u001b[0;31m \u001b[0msentence_data\u001b[0m \u001b[0;34m=\u001b[0m \u001b[0mget_sentence_data\u001b[0m\u001b[0;34m(\u001b[0m\u001b[0;34m\"11289127\"\u001b[0m\u001b[0;34m)\u001b[0m\u001b[0;34m\u001b[0m\u001b[0;34m\u001b[0m\u001b[0m\n\u001b[0m\u001b[1;32m      2\u001b[0m \u001b[0;32mfor\u001b[0m \u001b[0mss\u001b[0m \u001b[0;32min\u001b[0m \u001b[0msentence_data\u001b[0m\u001b[0;34m[\u001b[0m\u001b[0;34m\"data\"\u001b[0m\u001b[0;34m]\u001b[0m\u001b[0;34m:\u001b[0m\u001b[0;34m\u001b[0m\u001b[0;34m\u001b[0m\u001b[0m\n\u001b[1;32m      3\u001b[0m     \u001b[0;32mfor\u001b[0m \u001b[0ms\u001b[0m \u001b[0;32min\u001b[0m \u001b[0mss\u001b[0m\u001b[0;34m:\u001b[0m\u001b[0;34m\u001b[0m\u001b[0;34m\u001b[0m\u001b[0m\n\u001b[1;32m      4\u001b[0m         \u001b[0mprint\u001b[0m\u001b[0;34m(\u001b[0m\u001b[0ms\u001b[0m\u001b[0;34m[\u001b[0m\u001b[0;34m\"SUB_PRED_OBJ\"\u001b[0m\u001b[0;34m]\u001b[0m\u001b[0;34m)\u001b[0m\u001b[0;34m\u001b[0m\u001b[0;34m\u001b[0m\u001b[0m\n\u001b[1;32m      5\u001b[0m         \u001b[0mprint\u001b[0m\u001b[0;34m(\u001b[0m\u001b[0;34m\"SENTENCE:\"\u001b[0m\u001b[0;34m,\u001b[0m \u001b[0ms\u001b[0m\u001b[0;34m[\u001b[0m\u001b[0;34m\"SENTENCE\"\u001b[0m\u001b[0;34m]\u001b[0m\u001b[0;34m)\u001b[0m\u001b[0;34m\u001b[0m\u001b[0;34m\u001b[0m\u001b[0m\n",
      "\u001b[0;32m<ipython-input-17-ed75900fa39d>\u001b[0m in \u001b[0;36mget_sentence_data\u001b[0;34m(pmid)\u001b[0m\n\u001b[1;32m      3\u001b[0m     \u001b[0murl\u001b[0m \u001b[0;34m=\u001b[0m \u001b[0;34m\"https://melodi-presto.mrcieu.ac.uk/api/sentence/\"\u001b[0m\u001b[0;34m\u001b[0m\u001b[0;34m\u001b[0m\u001b[0m\n\u001b[1;32m      4\u001b[0m     \u001b[0mparams\u001b[0m \u001b[0;34m=\u001b[0m \u001b[0;34m{\u001b[0m \u001b[0;34m\"pmid\"\u001b[0m\u001b[0;34m:\u001b[0m \u001b[0mpmid\u001b[0m\u001b[0;34m,\u001b[0m\u001b[0;34m}\u001b[0m\u001b[0;34m\u001b[0m\u001b[0;34m\u001b[0m\u001b[0m\n\u001b[0;32m----> 5\u001b[0;31m     \u001b[0mresponse\u001b[0m \u001b[0;34m=\u001b[0m \u001b[0mrequests\u001b[0m\u001b[0;34m.\u001b[0m\u001b[0mpost\u001b[0m\u001b[0;34m(\u001b[0m\u001b[0murl\u001b[0m\u001b[0;34m,\u001b[0m \u001b[0mdata\u001b[0m\u001b[0;34m=\u001b[0m\u001b[0mjson\u001b[0m\u001b[0;34m.\u001b[0m\u001b[0mdumps\u001b[0m\u001b[0;34m(\u001b[0m\u001b[0mparams\u001b[0m\u001b[0;34m)\u001b[0m\u001b[0;34m)\u001b[0m\u001b[0;34m\u001b[0m\u001b[0;34m\u001b[0m\u001b[0m\n\u001b[0m\u001b[1;32m      6\u001b[0m     \u001b[0mres\u001b[0m \u001b[0;34m=\u001b[0m \u001b[0mresponse\u001b[0m\u001b[0;34m.\u001b[0m\u001b[0mjson\u001b[0m\u001b[0;34m(\u001b[0m\u001b[0;34m)\u001b[0m\u001b[0;34m\u001b[0m\u001b[0;34m\u001b[0m\u001b[0m\n\u001b[1;32m      7\u001b[0m     \u001b[0mdf\u001b[0m \u001b[0;34m=\u001b[0m \u001b[0mpd\u001b[0m\u001b[0;34m.\u001b[0m\u001b[0mjson_normalize\u001b[0m\u001b[0;34m(\u001b[0m\u001b[0mres\u001b[0m\u001b[0;34m)\u001b[0m\u001b[0;34m\u001b[0m\u001b[0;34m\u001b[0m\u001b[0m\n",
      "\u001b[0;31mNameError\u001b[0m: name 'requests' is not defined"
     ]
    }
   ],
   "source": [
    "sentence_data = get_sentence_data(\"11289127\")\n",
    "for ss in sentence_data[\"data\"]:\n",
    "    for s in ss:\n",
    "        print(s[\"SUB_PRED_OBJ\"])\n",
    "        print(\"SENTENCE:\", s[\"SENTENCE\"])\n",
    "        print(\"\\n\")\n",
    "        "
   ]
  },
  {
   "cell_type": "code",
   "execution_count": null,
   "metadata": {},
   "outputs": [],
   "source": [
    "bc_all_gwas_to_path[bc_all_gwas_to_path['gene.name']=='ESR1']"
   ]
  },
  {
   "cell_type": "code",
   "execution_count": null,
   "metadata": {},
   "outputs": [],
   "source": [
    "bc_er_pos_gwas_to_path[bc_er_pos_gwas_to_path['gene.name']=='ESR1']"
   ]
  },
  {
   "cell_type": "code",
   "execution_count": null,
   "metadata": {},
   "outputs": [],
   "source": [
    "bc_er_neg_gwas_to_path[bc_er_neg_gwas_to_path['gene.name']=='ESR1']"
   ]
  },
  {
   "cell_type": "code",
   "execution_count": null,
   "metadata": {},
   "outputs": [],
   "source": [
    "list(bc_er_pos_gwas_to_path[bc_er_pos_gwas_to_path['gene.name']=='ESR1']['Pathways'])"
   ]
  },
  {
   "cell_type": "code",
   "execution_count": 19,
   "metadata": {},
   "outputs": [
    {
     "ename": "NameError",
     "evalue": "name 'genes_test' is not defined",
     "output_type": "error",
     "traceback": [
      "\u001b[0;31m---------------------------------------------------------------------------\u001b[0m",
      "\u001b[0;31mNameError\u001b[0m                                 Traceback (most recent call last)",
      "\u001b[0;32m<ipython-input-19-45dbfd27961e>\u001b[0m in \u001b[0;36m<module>\u001b[0;34m\u001b[0m\n\u001b[0;32m----> 1\u001b[0;31m \u001b[0mgene_list\u001b[0m \u001b[0;34m=\u001b[0m \u001b[0mgenes_test\u001b[0m\u001b[0;34m\u001b[0m\u001b[0;34m\u001b[0m\u001b[0m\n\u001b[0m\u001b[1;32m      2\u001b[0m \u001b[0;34m\u001b[0m\u001b[0m\n\u001b[1;32m      3\u001b[0m \u001b[0;31m# tophits in GWAS -> genes -> expressed in Breast tissue -> map to lit -> other term -> predicate to a disease\u001b[0m\u001b[0;34m\u001b[0m\u001b[0;34m\u001b[0m\u001b[0;34m\u001b[0m\u001b[0m\n\u001b[1;32m      4\u001b[0m \u001b[0;31m# where third term contains 'breast'\u001b[0m\u001b[0;34m\u001b[0m\u001b[0;34m\u001b[0m\u001b[0;34m\u001b[0m\u001b[0m\n\u001b[1;32m      5\u001b[0m query=\"\"\"\n",
      "\u001b[0;31mNameError\u001b[0m: name 'genes_test' is not defined"
     ]
    }
   ],
   "source": [
    "gene_list = genes_test \n",
    "\n",
    "# tophits in GWAS -> genes -> expressed in Breast tissue -> map to lit -> other term -> predicate to a disease\n",
    "# where third term contains 'breast'\n",
    "query=\"\"\"\n",
    "MATCH (g:Gene)<-[:TERM_TO_GENE]-(l1:LiteratureTerm)-[]-(lt1:LiteratureTriple)-[]-(l2:LiteratureTerm)-[]-(lt2:LiteratureTriple)-[]-(l3:LiteratureTerm)-[:MONDO_MAP_UMLS]-(d:Disease)\n",
    "WHERE g.name in {} \n",
    "AND toLower(l3.name) contains 'breast'\n",
    "WITH  g,l1,lt1, l2, lt2, l3, d\n",
    "MATCH (lt1)-[]-(lit1:Literature) \n",
    "MATCH (lt2)-[]-(lit2:Literature) \n",
    "RETURN l1.name as term1, lt1.predicate as pred1,\n",
    "        l2.name as term2 ,  lt2.predicate as pred2,\n",
    "        l3.name as term3 , d.label as Disease,\n",
    "        lit1.id, lit2.id\n",
    "\"\"\".format(gene_list)\n",
    "\n",
    "df= query_to_df(query)\n",
    "df\n",
    "#df=df[df[\"term2\"]!= \"Genes\"]\n",
    "#df.sort_values(by=['Disease'])\n",
    "#df[df[\"pred1\"] not in [\"COEXISTS_WITH\"]]"
   ]
  },
  {
   "cell_type": "markdown",
   "metadata": {},
   "source": [
    "## Mapping enterobiasis drugs to true diseases via literature"
   ]
  },
  {
   "cell_type": "code",
   "execution_count": 7,
   "metadata": {},
   "outputs": [],
   "source": [
    "enterobiasis_drugs_df = pd.read_csv(\"query_results/enterobiasis_drugs.tsv\", sep = '\\t')\n",
    "enterobiasis_drugs = list(set(enterobiasis_drugs_df['drug.label']))"
   ]
  },
  {
   "cell_type": "code",
   "execution_count": 8,
   "metadata": {},
   "outputs": [
    {
     "ename": "NameError",
     "evalue": "name 'GENE_LIST' is not defined",
     "output_type": "error",
     "traceback": [
      "\u001b[0;31m---------------------------------------------------------------------------\u001b[0m",
      "\u001b[0;31mNameError\u001b[0m                                 Traceback (most recent call last)",
      "\u001b[0;32m<ipython-input-8-778047ea6f64>\u001b[0m in \u001b[0;36m<module>\u001b[0;34m\u001b[0m\n\u001b[1;32m      5\u001b[0m         \u001b[0mMATCH\u001b[0m \u001b[0;34m(\u001b[0m\u001b[0mlt\u001b[0m\u001b[0;34m)\u001b[0m\u001b[0;34m-\u001b[0m\u001b[0;34m[\u001b[0m\u001b[0;34m]\u001b[0m\u001b[0;34m-\u001b[0m\u001b[0;34m(\u001b[0m\u001b[0mlit\u001b[0m\u001b[0;34m:\u001b[0m\u001b[0mLiterature\u001b[0m\u001b[0;34m)\u001b[0m\u001b[0;34m\u001b[0m\u001b[0;34m\u001b[0m\u001b[0m\n\u001b[1;32m      6\u001b[0m         \u001b[0mRETURN\u001b[0m \u001b[0ml1\u001b[0m\u001b[0;34m.\u001b[0m\u001b[0mname\u001b[0m \u001b[0;32mas\u001b[0m \u001b[0mgene_as_litterm\u001b[0m\u001b[0;34m,\u001b[0m \u001b[0mlt\u001b[0m\u001b[0;34m.\u001b[0m\u001b[0mpredicate\u001b[0m \u001b[0;32mas\u001b[0m \u001b[0mpred\u001b[0m\u001b[0;34m,\u001b[0m \u001b[0ml2\u001b[0m\u001b[0;34m.\u001b[0m\u001b[0mname\u001b[0m \u001b[0;32mas\u001b[0m \u001b[0mobj_as_litterm\u001b[0m\u001b[0;34m,\u001b[0m \u001b[0mlit\u001b[0m\u001b[0;34m.\u001b[0m\u001b[0mid\u001b[0m \u001b[0;34m;\u001b[0m\u001b[0;34m\u001b[0m\u001b[0;34m\u001b[0m\u001b[0m\n\u001b[0;32m----> 7\u001b[0;31m     \"\"\".format(gene_list=GENE_LIST)\n\u001b[0m\u001b[1;32m      8\u001b[0m \u001b[0mdf\u001b[0m\u001b[0;34m=\u001b[0m \u001b[0mquery_to_df\u001b[0m\u001b[0;34m(\u001b[0m\u001b[0mquery\u001b[0m\u001b[0;34m)\u001b[0m\u001b[0;34m\u001b[0m\u001b[0;34m\u001b[0m\u001b[0m\n\u001b[1;32m      9\u001b[0m \u001b[0mdf\u001b[0m\u001b[0;34m\u001b[0m\u001b[0;34m\u001b[0m\u001b[0m\n",
      "\u001b[0;31mNameError\u001b[0m: name 'GENE_LIST' is not defined"
     ]
    }
   ],
   "source": [
    "query = \"\"\"\n",
    "        MATCH (g:Gene)<-[:TERM_TO_GENE]-(l1:LiteratureTerm)-[]-(lt:LiteratureTriple)-[]-(l2:LiteratureTerm)\n",
    "        WHERE g.name in {gene_list}\n",
    "        WITH  g,lt,l1,l2\n",
    "        MATCH (lt)-[]-(lit:Literature) \n",
    "        RETURN l1.name as gene_as_litterm, lt.predicate as pred, l2.name as obj_as_litterm, lit.id ;\n",
    "    \"\"\".format(gene_list=GENE_LIST)\n",
    "df= query_to_df(query)\n",
    "df"
   ]
  },
  {
   "cell_type": "code",
   "execution_count": null,
   "metadata": {},
   "outputs": [],
   "source": [
    "MATCH (drug:Drug)-[OPENTARGETS_DRUG_TO_TARGET]->(g:Gene)<-[:TERM_TO_GENE]-(l1:LiteratureTerm)-[]-(lt1:LiteratureTriple)-[]-(l2:LiteratureTerm)-[]-(lt2:LiteratureTriple)-[]-(l3:LiteratureTerm)-[:MONDO_MAP_UMLS]-(d:Disease)\n",
    "where drug.label = 'ABEMACICLIB'\n",
    "//AND toLower(l2.name) contains 'breast'\n",
    "WITH  drug, l1,lt1, l2, lt2, l3, d\n",
    "where tolower(d.label) contains 'breast'\n",
    "RETURN drug.label as DRUG, \n",
    "\t\tl1.name as term1, lt1.predicate as pred1,\n",
    "        l2.name as term2 ,  lt2.predicate as pred2,\n",
    "        l3.name as term3"
   ]
  }
 ],
 "metadata": {
  "kernelspec": {
   "display_name": "Python 3",
   "language": "python",
   "name": "python3"
  },
  "language_info": {
   "codemirror_mode": {
    "name": "ipython",
    "version": 3
   },
   "file_extension": ".py",
   "mimetype": "text/x-python",
   "name": "python",
   "nbconvert_exporter": "python",
   "pygments_lexer": "ipython3",
   "version": "3.7.9"
  }
 },
 "nbformat": 4,
 "nbformat_minor": 4
}
